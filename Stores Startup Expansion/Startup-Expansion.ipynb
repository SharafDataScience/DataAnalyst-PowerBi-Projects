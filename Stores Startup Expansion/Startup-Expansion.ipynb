{
 "cells": [
  {
   "cell_type": "markdown",
   "id": "d81b0d36-ae07-4c71-9b4c-3d906819b022",
   "metadata": {},
   "source": [
    "# Store Project Startup Expansion"
   ]
  },
  {
   "cell_type": "markdown",
   "id": "72b9896c-9fcc-4956-9d95-49df106d9e8e",
   "metadata": {},
   "source": [
    "# Import Libraries"
   ]
  },
  {
   "cell_type": "code",
   "execution_count": 170,
   "id": "e94a8110-7476-4ff0-b36a-789a38da9a46",
   "metadata": {},
   "outputs": [],
   "source": [
    "import numpy as np\n",
    "import pandas as pd\n",
    "import matplotlib.pyplot as plt\n",
    "import seaborn as sns"
   ]
  },
  {
   "cell_type": "markdown",
   "id": "07a9a131-8e62-4a7a-9876-dcbe9a877be2",
   "metadata": {},
   "source": [
    "## load Data"
   ]
  },
  {
   "cell_type": "code",
   "execution_count": 171,
   "id": "dad92f72-b9b3-4289-a8c0-afa98faf5030",
   "metadata": {},
   "outputs": [],
   "source": [
    "startup = pd.read_excel('startup-expansion.xlsx')"
   ]
  },
  {
   "cell_type": "code",
   "execution_count": 172,
   "id": "ef63dd79-db3e-4f6c-9b98-4811d2f43aa8",
   "metadata": {},
   "outputs": [
    {
     "data": {
      "text/html": [
       "<div>\n",
       "<style scoped>\n",
       "    .dataframe tbody tr th:only-of-type {\n",
       "        vertical-align: middle;\n",
       "    }\n",
       "\n",
       "    .dataframe tbody tr th {\n",
       "        vertical-align: top;\n",
       "    }\n",
       "\n",
       "    .dataframe thead th {\n",
       "        text-align: right;\n",
       "    }\n",
       "</style>\n",
       "<table border=\"1\" class=\"dataframe\">\n",
       "  <thead>\n",
       "    <tr style=\"text-align: right;\">\n",
       "      <th></th>\n",
       "      <th>Store ID</th>\n",
       "      <th>City</th>\n",
       "      <th>State</th>\n",
       "      <th>Sales Region</th>\n",
       "      <th>New Expansion</th>\n",
       "      <th>Marketing Spend</th>\n",
       "      <th>Revenue</th>\n",
       "    </tr>\n",
       "  </thead>\n",
       "  <tbody>\n",
       "    <tr>\n",
       "      <th>0</th>\n",
       "      <td>1</td>\n",
       "      <td>Peoria</td>\n",
       "      <td>Arizona</td>\n",
       "      <td>Region 2</td>\n",
       "      <td>Old</td>\n",
       "      <td>2601</td>\n",
       "      <td>48610</td>\n",
       "    </tr>\n",
       "    <tr>\n",
       "      <th>1</th>\n",
       "      <td>2</td>\n",
       "      <td>Midland</td>\n",
       "      <td>Texas</td>\n",
       "      <td>Region 2</td>\n",
       "      <td>Old</td>\n",
       "      <td>2727</td>\n",
       "      <td>45689</td>\n",
       "    </tr>\n",
       "    <tr>\n",
       "      <th>2</th>\n",
       "      <td>3</td>\n",
       "      <td>Spokane</td>\n",
       "      <td>Washington</td>\n",
       "      <td>Region 2</td>\n",
       "      <td>Old</td>\n",
       "      <td>2768</td>\n",
       "      <td>49554</td>\n",
       "    </tr>\n",
       "    <tr>\n",
       "      <th>3</th>\n",
       "      <td>4</td>\n",
       "      <td>Denton</td>\n",
       "      <td>Texas</td>\n",
       "      <td>Region 2</td>\n",
       "      <td>Old</td>\n",
       "      <td>2759</td>\n",
       "      <td>38284</td>\n",
       "    </tr>\n",
       "    <tr>\n",
       "      <th>4</th>\n",
       "      <td>5</td>\n",
       "      <td>Overland Park</td>\n",
       "      <td>Kansas</td>\n",
       "      <td>Region 2</td>\n",
       "      <td>Old</td>\n",
       "      <td>2869</td>\n",
       "      <td>59887</td>\n",
       "    </tr>\n",
       "    <tr>\n",
       "      <th>...</th>\n",
       "      <td>...</td>\n",
       "      <td>...</td>\n",
       "      <td>...</td>\n",
       "      <td>...</td>\n",
       "      <td>...</td>\n",
       "      <td>...</td>\n",
       "      <td>...</td>\n",
       "    </tr>\n",
       "    <tr>\n",
       "      <th>145</th>\n",
       "      <td>146</td>\n",
       "      <td>Paterson</td>\n",
       "      <td>New Jersey</td>\n",
       "      <td>Region 1</td>\n",
       "      <td>New</td>\n",
       "      <td>2251</td>\n",
       "      <td>34603</td>\n",
       "    </tr>\n",
       "    <tr>\n",
       "      <th>146</th>\n",
       "      <td>147</td>\n",
       "      <td>Brownsville</td>\n",
       "      <td>Texas</td>\n",
       "      <td>Region 2</td>\n",
       "      <td>New</td>\n",
       "      <td>3675</td>\n",
       "      <td>63148</td>\n",
       "    </tr>\n",
       "    <tr>\n",
       "      <th>147</th>\n",
       "      <td>148</td>\n",
       "      <td>Rockford</td>\n",
       "      <td>Illinois</td>\n",
       "      <td>Region 1</td>\n",
       "      <td>New</td>\n",
       "      <td>2648</td>\n",
       "      <td>43377</td>\n",
       "    </tr>\n",
       "    <tr>\n",
       "      <th>148</th>\n",
       "      <td>149</td>\n",
       "      <td>College Station</td>\n",
       "      <td>Texas</td>\n",
       "      <td>Region 2</td>\n",
       "      <td>New</td>\n",
       "      <td>2994</td>\n",
       "      <td>22457</td>\n",
       "    </tr>\n",
       "    <tr>\n",
       "      <th>149</th>\n",
       "      <td>150</td>\n",
       "      <td>Thousand Oaks</td>\n",
       "      <td>California</td>\n",
       "      <td>Region 2</td>\n",
       "      <td>New</td>\n",
       "      <td>2431</td>\n",
       "      <td>40141</td>\n",
       "    </tr>\n",
       "  </tbody>\n",
       "</table>\n",
       "<p>150 rows × 7 columns</p>\n",
       "</div>"
      ],
      "text/plain": [
       "     Store ID             City       State Sales Region New Expansion  \\\n",
       "0           1           Peoria     Arizona     Region 2           Old   \n",
       "1           2          Midland       Texas     Region 2           Old   \n",
       "2           3          Spokane  Washington     Region 2           Old   \n",
       "3           4           Denton       Texas     Region 2           Old   \n",
       "4           5    Overland Park      Kansas     Region 2           Old   \n",
       "..        ...              ...         ...          ...           ...   \n",
       "145       146         Paterson  New Jersey     Region 1           New   \n",
       "146       147      Brownsville       Texas     Region 2           New   \n",
       "147       148         Rockford    Illinois     Region 1           New   \n",
       "148       149  College Station       Texas     Region 2           New   \n",
       "149       150    Thousand Oaks  California     Region 2           New   \n",
       "\n",
       "     Marketing Spend  Revenue  \n",
       "0               2601    48610  \n",
       "1               2727    45689  \n",
       "2               2768    49554  \n",
       "3               2759    38284  \n",
       "4               2869    59887  \n",
       "..               ...      ...  \n",
       "145             2251    34603  \n",
       "146             3675    63148  \n",
       "147             2648    43377  \n",
       "148             2994    22457  \n",
       "149             2431    40141  \n",
       "\n",
       "[150 rows x 7 columns]"
      ]
     },
     "execution_count": 172,
     "metadata": {},
     "output_type": "execute_result"
    }
   ],
   "source": [
    "startup"
   ]
  },
  {
   "cell_type": "code",
   "execution_count": 173,
   "id": "06f3aee7-b368-4066-b45b-cee1b52a7484",
   "metadata": {},
   "outputs": [
    {
     "name": "stdout",
     "output_type": "stream",
     "text": [
      "<class 'pandas.core.frame.DataFrame'>\n",
      "RangeIndex: 150 entries, 0 to 149\n",
      "Data columns (total 7 columns):\n",
      " #   Column           Non-Null Count  Dtype \n",
      "---  ------           --------------  ----- \n",
      " 0   Store ID         150 non-null    int64 \n",
      " 1   City             150 non-null    object\n",
      " 2   State            150 non-null    object\n",
      " 3   Sales Region     150 non-null    object\n",
      " 4   New Expansion    150 non-null    object\n",
      " 5   Marketing Spend  150 non-null    int64 \n",
      " 6   Revenue          150 non-null    int64 \n",
      "dtypes: int64(3), object(4)\n",
      "memory usage: 8.3+ KB\n"
     ]
    }
   ],
   "source": [
    "startup.info()"
   ]
  },
  {
   "cell_type": "code",
   "execution_count": 174,
   "id": "85fd69ac-4c4d-4928-96bb-6ecc82388ef2",
   "metadata": {},
   "outputs": [
    {
     "data": {
      "text/html": [
       "<div>\n",
       "<style scoped>\n",
       "    .dataframe tbody tr th:only-of-type {\n",
       "        vertical-align: middle;\n",
       "    }\n",
       "\n",
       "    .dataframe tbody tr th {\n",
       "        vertical-align: top;\n",
       "    }\n",
       "\n",
       "    .dataframe thead th {\n",
       "        text-align: right;\n",
       "    }\n",
       "</style>\n",
       "<table border=\"1\" class=\"dataframe\">\n",
       "  <thead>\n",
       "    <tr style=\"text-align: right;\">\n",
       "      <th></th>\n",
       "      <th>Marketing Spend</th>\n",
       "      <th>Revenue</th>\n",
       "    </tr>\n",
       "  </thead>\n",
       "  <tbody>\n",
       "    <tr>\n",
       "      <th>count</th>\n",
       "      <td>150.00</td>\n",
       "      <td>150.00</td>\n",
       "    </tr>\n",
       "    <tr>\n",
       "      <th>mean</th>\n",
       "      <td>2893.15</td>\n",
       "      <td>39301.43</td>\n",
       "    </tr>\n",
       "    <tr>\n",
       "      <th>std</th>\n",
       "      <td>367.86</td>\n",
       "      <td>15465.75</td>\n",
       "    </tr>\n",
       "    <tr>\n",
       "      <th>min</th>\n",
       "      <td>1811.00</td>\n",
       "      <td>15562.00</td>\n",
       "    </tr>\n",
       "    <tr>\n",
       "      <th>25%</th>\n",
       "      <td>2662.25</td>\n",
       "      <td>21113.50</td>\n",
       "    </tr>\n",
       "    <tr>\n",
       "      <th>50%</th>\n",
       "      <td>2898.00</td>\n",
       "      <td>42993.00</td>\n",
       "    </tr>\n",
       "    <tr>\n",
       "      <th>75%</th>\n",
       "      <td>3111.50</td>\n",
       "      <td>51145.50</td>\n",
       "    </tr>\n",
       "    <tr>\n",
       "      <th>max</th>\n",
       "      <td>3984.00</td>\n",
       "      <td>68828.00</td>\n",
       "    </tr>\n",
       "  </tbody>\n",
       "</table>\n",
       "</div>"
      ],
      "text/plain": [
       "       Marketing Spend   Revenue\n",
       "count           150.00    150.00\n",
       "mean           2893.15  39301.43\n",
       "std             367.86  15465.75\n",
       "min            1811.00  15562.00\n",
       "25%            2662.25  21113.50\n",
       "50%            2898.00  42993.00\n",
       "75%            3111.50  51145.50\n",
       "max            3984.00  68828.00"
      ]
     },
     "execution_count": 174,
     "metadata": {},
     "output_type": "execute_result"
    }
   ],
   "source": [
    "startup[[\"Marketing Spend\",\"Revenue\"]].describe().round(2)"
   ]
  },
  {
   "cell_type": "code",
   "execution_count": null,
   "id": "a71aca64-db12-4584-9b8f-9db586ea2fe2",
   "metadata": {},
   "outputs": [],
   "source": []
  },
  {
   "cell_type": "markdown",
   "id": "1339e10b-9053-4bd6-8d1b-682ffb385983",
   "metadata": {},
   "source": [
    "## Data Preprocessing"
   ]
  },
  {
   "cell_type": "code",
   "execution_count": 175,
   "id": "ec3b407a-e295-45ab-9223-bcd7321e82f8",
   "metadata": {},
   "outputs": [
    {
     "data": {
      "text/plain": [
       "149"
      ]
     },
     "execution_count": 175,
     "metadata": {},
     "output_type": "execute_result"
    }
   ],
   "source": [
    "startup[\"City\"].nunique()"
   ]
  },
  {
   "cell_type": "code",
   "execution_count": 176,
   "id": "2f3fad91-06de-4135-be38-9096f1c5aa42",
   "metadata": {},
   "outputs": [
    {
     "data": {
      "text/plain": [
       "array(['Peoria', 'Midland', 'Spokane', 'Denton', 'Overland Park',\n",
       "       'Yonkers', 'Birmingham', 'Antioch', 'Worcester', 'Rochester',\n",
       "       'Rialto', 'Santa Maria', 'Las Cruces', 'Jackson', 'Hillsboro',\n",
       "       'Temecula', 'Tallahassee', 'Fontana', 'Kent', 'Broken Arrow',\n",
       "       'Concord', 'Modesto', 'Montgomery', 'Burbank', 'Elk Grove',\n",
       "       'Port St. Lucie', 'Elizabeth', 'Salt Lake City', 'Waco', 'Edison',\n",
       "       'Boulder', 'Grand Rapids', 'Tyler', 'Charleston', 'Huntsville',\n",
       "       'Pearland', 'Inglewood', 'Oxnard', 'Miramar', 'Cape Coral',\n",
       "       'Syracuse', 'Newport News', 'Lewisville', 'Carrollton',\n",
       "       'San Bernardino', 'Pasadena', 'Roseville', 'Murrieta',\n",
       "       'San Angelo', 'Olathe', 'Akron', 'Fullerton', 'Manchester',\n",
       "       'Everett', 'West Covina', 'Thornton', 'Hampton', 'Waterbury',\n",
       "       'Ventura', 'Davenport', 'Columbia', 'Simi Valley', 'Richmond',\n",
       "       'Little Rock', 'El Cajon', 'Santa Clara', 'Oceanside', 'Davie',\n",
       "       'Lakeland', 'Centennial', 'Lowell', 'Ontario', 'Palm Bay',\n",
       "       'Murfreesboro', 'Vancouver', 'Topeka', 'West Valley City',\n",
       "       'New Haven', 'Pueblo', 'Costa Mesa', 'Garden Grove',\n",
       "       'Fort Lauderdale', 'North Charleston', 'Cambridge', 'Greeley',\n",
       "       'Gresham', 'Amarillo', 'High Point', 'Vista', 'Tacoma', 'Mesquite',\n",
       "       'Augusta', 'Elgin', 'Aurora', 'Gainesville', 'Dayton',\n",
       "       'Wichita Falls', 'Naperville', 'Clovis', 'Billings', 'Surprise',\n",
       "       'Coral Springs', 'Visalia', 'Killeen', 'Orange', 'Richardson',\n",
       "       'South Bend', 'Fayetteville', 'Sioux Falls', 'Grand Prairie',\n",
       "       'Stamford', 'West Palm Beach', 'Knoxville', 'Renton', 'McAllen',\n",
       "       'Woodbridge', 'Shreveport', 'Bellevue', 'Huntington Beach',\n",
       "       'Santa Clarita', 'Sterling Heights', 'Mobile', 'Bridgeport',\n",
       "       'Daly City', 'Sandy Springs', 'Cedar Rapids', 'Columbus',\n",
       "       'Moreno Valley', 'Pompano Beach', 'Savannah', 'West Jordan',\n",
       "       'Des Moines', 'Green Bay', 'Santa Rosa', 'San Mateo', 'Warren',\n",
       "       'Norwalk', 'Lafayette', 'Providence', 'Chattanooga', 'Tempe',\n",
       "       'Joliet', 'Rancho Cucamonga', 'Glendale', 'Paterson',\n",
       "       'Brownsville', 'Rockford', 'College Station', 'Thousand Oaks'],\n",
       "      dtype=object)"
      ]
     },
     "execution_count": 176,
     "metadata": {},
     "output_type": "execute_result"
    }
   ],
   "source": [
    "startup[\"City\"].unique()"
   ]
  },
  {
   "cell_type": "code",
   "execution_count": 177,
   "id": "cfe111d7-062d-4da2-b1a3-ec82d81dfb08",
   "metadata": {},
   "outputs": [
    {
     "data": {
      "text/plain": [
       "City\n",
       "Rochester        2\n",
       "Killeen          1\n",
       "Wichita Falls    1\n",
       "Naperville       1\n",
       "Clovis           1\n",
       "                ..\n",
       "Akron            1\n",
       "Fullerton        1\n",
       "Manchester       1\n",
       "Everett          1\n",
       "Thousand Oaks    1\n",
       "Name: count, Length: 149, dtype: int64"
      ]
     },
     "execution_count": 177,
     "metadata": {},
     "output_type": "execute_result"
    }
   ],
   "source": [
    "startup[\"City\"].value_counts()"
   ]
  },
  {
   "cell_type": "code",
   "execution_count": 178,
   "id": "42efeca9-2dfb-4303-ae82-bb4c6ed08c91",
   "metadata": {},
   "outputs": [
    {
     "data": {
      "text/plain": [
       "35"
      ]
     },
     "execution_count": 178,
     "metadata": {},
     "output_type": "execute_result"
    }
   ],
   "source": [
    "startup[\"State\"].nunique()"
   ]
  },
  {
   "cell_type": "code",
   "execution_count": 179,
   "id": "d6f81648-4856-4a87-b6a5-b195dbd7ab09",
   "metadata": {},
   "outputs": [
    {
     "data": {
      "text/plain": [
       "array(['Arizona', 'Texas', 'Washington', 'Kansas', 'New York', 'Alabama',\n",
       "       'California', 'Massachusetts', 'New Mexico', 'Mississippi',\n",
       "       'Oregon', 'Florida', 'Oklahoma', 'New Jersey', 'Utah', 'Colorado',\n",
       "       'Michigan', 'South Carolina', 'Virginia', 'Ohio', 'New Hampshire',\n",
       "       'Connecticut', 'Iowa', 'Arkansas', 'Tennessee', 'North Carolina',\n",
       "       'Georgia', 'Illinois', 'Montana', 'Indiana', 'South Dakota',\n",
       "       'Louisiana', 'Minnesota', 'Wisconsin', 'Rhode Island'],\n",
       "      dtype=object)"
      ]
     },
     "execution_count": 179,
     "metadata": {},
     "output_type": "execute_result"
    }
   ],
   "source": [
    "startup[\"State\"].unique()"
   ]
  },
  {
   "cell_type": "code",
   "execution_count": 180,
   "id": "b173a4a4-06d9-4198-b4d1-077e06d95fc9",
   "metadata": {},
   "outputs": [
    {
     "data": {
      "text/plain": [
       "State\n",
       "California        40\n",
       "Texas             17\n",
       "Florida           12\n",
       "Washington         7\n",
       "Colorado           5\n",
       "Illinois           5\n",
       "Georgia            4\n",
       "Alabama            4\n",
       "Connecticut        4\n",
       "New Jersey         4\n",
       "Arizona            3\n",
       "Tennessee          3\n",
       "Iowa               3\n",
       "Michigan           3\n",
       "South Carolina     3\n",
       "Utah               3\n",
       "Massachusetts      3\n",
       "Kansas             3\n",
       "New York           3\n",
       "Louisiana          2\n",
       "North Carolina     2\n",
       "Ohio               2\n",
       "Virginia           2\n",
       "Oregon             2\n",
       "Mississippi        1\n",
       "New Mexico         1\n",
       "Arkansas           1\n",
       "New Hampshire      1\n",
       "Oklahoma           1\n",
       "Montana            1\n",
       "Indiana            1\n",
       "South Dakota       1\n",
       "Minnesota          1\n",
       "Wisconsin          1\n",
       "Rhode Island       1\n",
       "Name: count, dtype: int64"
      ]
     },
     "execution_count": 180,
     "metadata": {},
     "output_type": "execute_result"
    }
   ],
   "source": [
    "startup[\"State\"].value_counts()"
   ]
  },
  {
   "cell_type": "code",
   "execution_count": 181,
   "id": "77a0829e-e64d-40e2-a58b-fdd6d347381f",
   "metadata": {},
   "outputs": [
    {
     "data": {
      "text/plain": [
       "2"
      ]
     },
     "execution_count": 181,
     "metadata": {},
     "output_type": "execute_result"
    }
   ],
   "source": [
    "startup[\"Sales Region\"].nunique()"
   ]
  },
  {
   "cell_type": "code",
   "execution_count": 182,
   "id": "1f5ef701-d5d1-4335-84f1-894f6145f6ba",
   "metadata": {},
   "outputs": [
    {
     "data": {
      "text/plain": [
       "array(['Region 2', 'Region 1'], dtype=object)"
      ]
     },
     "execution_count": 182,
     "metadata": {},
     "output_type": "execute_result"
    }
   ],
   "source": [
    "startup[\"Sales Region\"].unique()"
   ]
  },
  {
   "cell_type": "code",
   "execution_count": 183,
   "id": "a8a7c833-4080-4c96-a50d-c12d40751c1d",
   "metadata": {},
   "outputs": [
    {
     "data": {
      "text/plain": [
       "Sales Region\n",
       "Region 2    86\n",
       "Region 1    64\n",
       "Name: count, dtype: int64"
      ]
     },
     "execution_count": 183,
     "metadata": {},
     "output_type": "execute_result"
    }
   ],
   "source": [
    "startup[\"Sales Region\"].value_counts()"
   ]
  },
  {
   "cell_type": "code",
   "execution_count": 184,
   "id": "48115998-7e52-4155-b79e-5512146b4e40",
   "metadata": {},
   "outputs": [
    {
     "data": {
      "text/plain": [
       "2"
      ]
     },
     "execution_count": 184,
     "metadata": {},
     "output_type": "execute_result"
    }
   ],
   "source": [
    "startup[\"New Expansion\"].nunique()"
   ]
  },
  {
   "cell_type": "code",
   "execution_count": 185,
   "id": "a36ee94e-fe3a-460e-ae38-2b2b3fafa4ab",
   "metadata": {},
   "outputs": [
    {
     "data": {
      "text/plain": [
       "array(['Old', 'New'], dtype=object)"
      ]
     },
     "execution_count": 185,
     "metadata": {},
     "output_type": "execute_result"
    }
   ],
   "source": [
    "startup[\"New Expansion\"].unique()"
   ]
  },
  {
   "cell_type": "code",
   "execution_count": 186,
   "id": "35e124be-b5a6-4d73-9c5f-3205edaee80e",
   "metadata": {},
   "outputs": [
    {
     "data": {
      "text/plain": [
       "New Expansion\n",
       "Old    140\n",
       "New     10\n",
       "Name: count, dtype: int64"
      ]
     },
     "execution_count": 186,
     "metadata": {},
     "output_type": "execute_result"
    }
   ],
   "source": [
    "startup[\"New Expansion\"].value_counts()"
   ]
  },
  {
   "cell_type": "code",
   "execution_count": 187,
   "id": "51a0c363-a83c-4f6d-b15d-959176b37373",
   "metadata": {},
   "outputs": [
    {
     "data": {
      "text/html": [
       "<div>\n",
       "<style scoped>\n",
       "    .dataframe tbody tr th:only-of-type {\n",
       "        vertical-align: middle;\n",
       "    }\n",
       "\n",
       "    .dataframe tbody tr th {\n",
       "        vertical-align: top;\n",
       "    }\n",
       "\n",
       "    .dataframe thead th {\n",
       "        text-align: right;\n",
       "    }\n",
       "</style>\n",
       "<table border=\"1\" class=\"dataframe\">\n",
       "  <thead>\n",
       "    <tr style=\"text-align: right;\">\n",
       "      <th></th>\n",
       "      <th>Number of Missing Values</th>\n",
       "      <th>Percentage of Missing Values</th>\n",
       "    </tr>\n",
       "  </thead>\n",
       "  <tbody>\n",
       "    <tr>\n",
       "      <th>Store ID</th>\n",
       "      <td>0</td>\n",
       "      <td>0.0</td>\n",
       "    </tr>\n",
       "    <tr>\n",
       "      <th>City</th>\n",
       "      <td>0</td>\n",
       "      <td>0.0</td>\n",
       "    </tr>\n",
       "    <tr>\n",
       "      <th>State</th>\n",
       "      <td>0</td>\n",
       "      <td>0.0</td>\n",
       "    </tr>\n",
       "    <tr>\n",
       "      <th>Sales Region</th>\n",
       "      <td>0</td>\n",
       "      <td>0.0</td>\n",
       "    </tr>\n",
       "    <tr>\n",
       "      <th>New Expansion</th>\n",
       "      <td>0</td>\n",
       "      <td>0.0</td>\n",
       "    </tr>\n",
       "    <tr>\n",
       "      <th>Marketing Spend</th>\n",
       "      <td>0</td>\n",
       "      <td>0.0</td>\n",
       "    </tr>\n",
       "    <tr>\n",
       "      <th>Revenue</th>\n",
       "      <td>0</td>\n",
       "      <td>0.0</td>\n",
       "    </tr>\n",
       "  </tbody>\n",
       "</table>\n",
       "</div>"
      ],
      "text/plain": [
       "                 Number of Missing Values  Percentage of Missing Values\n",
       "Store ID                                0                           0.0\n",
       "City                                    0                           0.0\n",
       "State                                   0                           0.0\n",
       "Sales Region                            0                           0.0\n",
       "New Expansion                           0                           0.0\n",
       "Marketing Spend                         0                           0.0\n",
       "Revenue                                 0                           0.0"
      ]
     },
     "execution_count": 187,
     "metadata": {},
     "output_type": "execute_result"
    }
   ],
   "source": [
    "# function to count missing data and in which feature.\n",
    "def missing_data(data):\n",
    "    nb_values = data.isnull().sum().sort_values(ascending = False) #contains the number of values missing\n",
    "    percent_values = (data.isnull().sum()/data.isnull().count()*100).sort_values(ascending = False) #contains the percentage of values missing\n",
    "    return pd.concat([nb_values, percent_values], axis=1, keys=['Number of Missing Values', 'Percentage of Missing Values'])\n",
    "\n",
    "missing_data(startup).head(9)"
   ]
  },
  {
   "cell_type": "code",
   "execution_count": 188,
   "id": "1c2bdb26-cebf-4b45-a602-bb14a60194e0",
   "metadata": {},
   "outputs": [
    {
     "name": "stdout",
     "output_type": "stream",
     "text": [
      "There are no duplicate rows in the dataset.\n"
     ]
    }
   ],
   "source": [
    "# Check for duplicate rows\n",
    "duplicate_rows = startup[startup.duplicated()]\n",
    "\n",
    "# Print results before removal\n",
    "if not duplicate_rows.empty:\n",
    "    print(f\"There are {len(duplicate_rows)} duplicate rows in the dataset. Removing them now...\")\n",
    "    df_raw = df_raw.drop_duplicates()  # Remove duplicates\n",
    "    print(\"Duplicates removed successfully!\")\n",
    "else:\n",
    "    print(\"There are no duplicate rows in the dataset.\")"
   ]
  },
  {
   "cell_type": "markdown",
   "id": "6bda602a-3d1e-40d7-920e-efd7df93d010",
   "metadata": {},
   "source": [
    "## Exploring Data Analysis (EDA)"
   ]
  },
  {
   "cell_type": "code",
   "execution_count": 189,
   "id": "2e0a0677-e504-4d7a-8348-0b09973f5452",
   "metadata": {},
   "outputs": [
    {
     "data": {
      "text/html": [
       "<div>\n",
       "<style scoped>\n",
       "    .dataframe tbody tr th:only-of-type {\n",
       "        vertical-align: middle;\n",
       "    }\n",
       "\n",
       "    .dataframe tbody tr th {\n",
       "        vertical-align: top;\n",
       "    }\n",
       "\n",
       "    .dataframe thead th {\n",
       "        text-align: right;\n",
       "    }\n",
       "</style>\n",
       "<table border=\"1\" class=\"dataframe\">\n",
       "  <thead>\n",
       "    <tr style=\"text-align: right;\">\n",
       "      <th></th>\n",
       "      <th>Store ID</th>\n",
       "      <th>City</th>\n",
       "      <th>State</th>\n",
       "      <th>Sales Region</th>\n",
       "      <th>New Expansion</th>\n",
       "      <th>Marketing Spend</th>\n",
       "      <th>Revenue</th>\n",
       "    </tr>\n",
       "  </thead>\n",
       "  <tbody>\n",
       "    <tr>\n",
       "      <th>137</th>\n",
       "      <td>138</td>\n",
       "      <td>Norwalk</td>\n",
       "      <td>California</td>\n",
       "      <td>Region 2</td>\n",
       "      <td>Old</td>\n",
       "      <td>3112</td>\n",
       "      <td>19703</td>\n",
       "    </tr>\n",
       "    <tr>\n",
       "      <th>105</th>\n",
       "      <td>106</td>\n",
       "      <td>Richardson</td>\n",
       "      <td>Texas</td>\n",
       "      <td>Region 2</td>\n",
       "      <td>Old</td>\n",
       "      <td>3228</td>\n",
       "      <td>22824</td>\n",
       "    </tr>\n",
       "    <tr>\n",
       "      <th>30</th>\n",
       "      <td>31</td>\n",
       "      <td>Boulder</td>\n",
       "      <td>Colorado</td>\n",
       "      <td>Region 2</td>\n",
       "      <td>Old</td>\n",
       "      <td>3083</td>\n",
       "      <td>22680</td>\n",
       "    </tr>\n",
       "    <tr>\n",
       "      <th>114</th>\n",
       "      <td>115</td>\n",
       "      <td>McAllen</td>\n",
       "      <td>Texas</td>\n",
       "      <td>Region 2</td>\n",
       "      <td>Old</td>\n",
       "      <td>2282</td>\n",
       "      <td>43924</td>\n",
       "    </tr>\n",
       "    <tr>\n",
       "      <th>71</th>\n",
       "      <td>72</td>\n",
       "      <td>Ontario</td>\n",
       "      <td>California</td>\n",
       "      <td>Region 2</td>\n",
       "      <td>Old</td>\n",
       "      <td>3168</td>\n",
       "      <td>52078</td>\n",
       "    </tr>\n",
       "    <tr>\n",
       "      <th>10</th>\n",
       "      <td>11</td>\n",
       "      <td>Rialto</td>\n",
       "      <td>California</td>\n",
       "      <td>Region 2</td>\n",
       "      <td>Old</td>\n",
       "      <td>2541</td>\n",
       "      <td>16860</td>\n",
       "    </tr>\n",
       "    <tr>\n",
       "      <th>78</th>\n",
       "      <td>79</td>\n",
       "      <td>Pueblo</td>\n",
       "      <td>Colorado</td>\n",
       "      <td>Region 2</td>\n",
       "      <td>Old</td>\n",
       "      <td>2928</td>\n",
       "      <td>19563</td>\n",
       "    </tr>\n",
       "    <tr>\n",
       "      <th>113</th>\n",
       "      <td>114</td>\n",
       "      <td>Renton</td>\n",
       "      <td>Washington</td>\n",
       "      <td>Region 2</td>\n",
       "      <td>Old</td>\n",
       "      <td>2754</td>\n",
       "      <td>44635</td>\n",
       "    </tr>\n",
       "    <tr>\n",
       "      <th>55</th>\n",
       "      <td>56</td>\n",
       "      <td>Thornton</td>\n",
       "      <td>Colorado</td>\n",
       "      <td>Region 2</td>\n",
       "      <td>Old</td>\n",
       "      <td>2642</td>\n",
       "      <td>46490</td>\n",
       "    </tr>\n",
       "    <tr>\n",
       "      <th>35</th>\n",
       "      <td>36</td>\n",
       "      <td>Pearland</td>\n",
       "      <td>Texas</td>\n",
       "      <td>Region 2</td>\n",
       "      <td>Old</td>\n",
       "      <td>3127</td>\n",
       "      <td>20057</td>\n",
       "    </tr>\n",
       "  </tbody>\n",
       "</table>\n",
       "</div>"
      ],
      "text/plain": [
       "     Store ID        City       State Sales Region New Expansion  \\\n",
       "137       138     Norwalk  California     Region 2           Old   \n",
       "105       106  Richardson       Texas     Region 2           Old   \n",
       "30         31     Boulder    Colorado     Region 2           Old   \n",
       "114       115     McAllen       Texas     Region 2           Old   \n",
       "71         72     Ontario  California     Region 2           Old   \n",
       "10         11      Rialto  California     Region 2           Old   \n",
       "78         79      Pueblo    Colorado     Region 2           Old   \n",
       "113       114      Renton  Washington     Region 2           Old   \n",
       "55         56    Thornton    Colorado     Region 2           Old   \n",
       "35         36    Pearland       Texas     Region 2           Old   \n",
       "\n",
       "     Marketing Spend  Revenue  \n",
       "137             3112    19703  \n",
       "105             3228    22824  \n",
       "30              3083    22680  \n",
       "114             2282    43924  \n",
       "71              3168    52078  \n",
       "10              2541    16860  \n",
       "78              2928    19563  \n",
       "113             2754    44635  \n",
       "55              2642    46490  \n",
       "35              3127    20057  "
      ]
     },
     "execution_count": 189,
     "metadata": {},
     "output_type": "execute_result"
    }
   ],
   "source": [
    "startup.sample(10)"
   ]
  },
  {
   "cell_type": "code",
   "execution_count": 190,
   "id": "e90ad895-8915-44d3-850e-445047cd3b19",
   "metadata": {},
   "outputs": [
    {
     "data": {
      "text/plain": [
       "<Axes: xlabel='Sales Region'>"
      ]
     },
     "execution_count": 190,
     "metadata": {},
     "output_type": "execute_result"
    },
    {
     "data": {
      "image/png": "[encoded data removed]",
      "text/plain": [
       "<Figure size 640x480 with 1 Axes>"
      ]
     },
     "metadata": {},
     "output_type": "display_data"
    }
   ],
   "source": [
    "startup[\"Sales Region\"].value_counts().plot.bar()"
   ]
  },
  {
   "cell_type": "code",
   "execution_count": 191,
   "id": "5b68eab8-3f26-41da-a431-2616450123df",
   "metadata": {},
   "outputs": [
    {
     "data": {
      "text/plain": [
       "<Axes: xlabel='New Expansion'>"
      ]
     },
     "execution_count": 191,
     "metadata": {},
     "output_type": "execute_result"
    },
    {
     "data": {
      "image/png": "[encoded data removed]",
      "text/plain": [
       "<Figure size 640x480 with 1 Axes>"
      ]
     },
     "metadata": {},
     "output_type": "display_data"
    }
   ],
   "source": [
    "startup[\"New Expansion\"].value_counts().plot.bar()"
   ]
  },
  {
   "cell_type": "code",
   "execution_count": 192,
   "id": "770db2df-847a-4b0b-b113-5c5e399f1016",
   "metadata": {},
   "outputs": [
    {
     "data": {
      "text/plain": [
       "{'New': [140, 141, 142, 143, 144, 145, 146, 147, 148, 149], 'Old': [0, 1, 2, 3, 4, 5, 6, 7, 8, 9, 10, 11, 12, 13, 14, 15, 16, 17, 18, 19, 20, 21, 22, 23, 24, 25, 26, 27, 28, 29, 30, 31, 32, 33, 34, 35, 36, 37, 38, 39, 40, 41, 42, 43, 44, 45, 46, 47, 48, 49, 50, 51, 52, 53, 54, 55, 56, 57, 58, 59, 60, 61, 62, 63, 64, 65, 66, 67, 68, 69, 70, 71, 72, 73, 74, 75, 76, 77, 78, 79, 80, 81, 82, 83, 84, 85, 86, 87, 88, 89, 90, 91, 92, 93, 94, 95, 96, 97, 98, 99, ...]}"
      ]
     },
     "execution_count": 192,
     "metadata": {},
     "output_type": "execute_result"
    }
   ],
   "source": [
    "startup.groupby(\"New Expansion\").groups"
   ]
  },
  {
   "cell_type": "code",
   "execution_count": 193,
   "id": "25d7ae7d-279d-41c0-9d07-8b49efe0e24e",
   "metadata": {},
   "outputs": [
    {
     "data": {
      "text/plain": [
       "State\n",
       "California     1362468\n",
       "Texas           554964\n",
       "Florida         479023\n",
       "Washington      298013\n",
       "Alabama         221025\n",
       "New York        160046\n",
       "Connecticut     158511\n",
       "Georgia         157656\n",
       "Colorado        156495\n",
       "Michigan        147759\n",
       "Name: Revenue, dtype: int64"
      ]
     },
     "execution_count": 193,
     "metadata": {},
     "output_type": "execute_result"
    }
   ],
   "source": [
    "startup[startup[\"New Expansion\"] == \"Old\"].groupby([\"State\"]).sum()[\"Revenue\"].nlargest(10)\n"
   ]
  },
  {
   "cell_type": "code",
   "execution_count": 194,
   "id": "09863753-a091-4476-a2fc-e1296bcc2b2a",
   "metadata": {},
   "outputs": [
    {
     "data": {
      "text/plain": [
       "State\n",
       "California    141883\n",
       "Illinois       91692\n",
       "Texas          85605\n",
       "Tennessee      55357\n",
       "Arizona        48954\n",
       "New Jersey     34603\n",
       "Name: Revenue, dtype: int64"
      ]
     },
     "execution_count": 194,
     "metadata": {},
     "output_type": "execute_result"
    }
   ],
   "source": [
    "startup[startup[\"New Expansion\"] == \"New\"].groupby([\"State\"]).sum()[\"Revenue\"].nlargest(10)\n"
   ]
  },
  {
   "cell_type": "code",
   "execution_count": 195,
   "id": "c053dd4b-f7ba-4dc6-89ad-28caf087c8e5",
   "metadata": {},
   "outputs": [
    {
     "data": {
      "text/plain": [
       "State\n",
       "California     1362468\n",
       "Texas           554964\n",
       "Florida         479023\n",
       "Washington      298013\n",
       "Alabama         221025\n",
       "New York        160046\n",
       "Connecticut     158511\n",
       "Georgia         157656\n",
       "Colorado        156495\n",
       "Michigan        147759\n",
       "Name: Revenue, dtype: int64"
      ]
     },
     "execution_count": 195,
     "metadata": {},
     "output_type": "execute_result"
    }
   ],
   "source": [
    "startup[startup[\"New Expansion\"] == \"Old\"].groupby([\"State\"]).sum()[\"Revenue\"].nlargest(10)\n"
   ]
  },
  {
   "cell_type": "code",
   "execution_count": 200,
   "id": "74f501c4-8158-4e07-bf2f-6392e88fa44f",
   "metadata": {},
   "outputs": [],
   "source": [
    "# startup[\"ROMS\"] =round((startup[\"Revenue\"]/startup[\"Marketing Spend\"]) * 100, 2)\n",
    "startup[\"Profit\"] = startup[\"Revenue\"] - startup[\"Marketing Spend\"]\n",
    "startup[\"ROMS\"] = round((startup[\"Profit\"] / startup[\"Marketing Spend\"])*100, 2)\n",
    "startup[\"ROMS%\"] = startup[\"ROMS\"]/100"
   ]
  },
  {
   "cell_type": "code",
   "execution_count": 202,
   "id": "1cac47a1-c33a-4cb8-826b-ab7554d49b7f",
   "metadata": {},
   "outputs": [
    {
     "data": {
      "text/html": [
       "<div>\n",
       "<style scoped>\n",
       "    .dataframe tbody tr th:only-of-type {\n",
       "        vertical-align: middle;\n",
       "    }\n",
       "\n",
       "    .dataframe tbody tr th {\n",
       "        vertical-align: top;\n",
       "    }\n",
       "\n",
       "    .dataframe thead th {\n",
       "        text-align: right;\n",
       "    }\n",
       "</style>\n",
       "<table border=\"1\" class=\"dataframe\">\n",
       "  <thead>\n",
       "    <tr style=\"text-align: right;\">\n",
       "      <th></th>\n",
       "      <th>Store ID</th>\n",
       "      <th>City</th>\n",
       "      <th>State</th>\n",
       "      <th>Sales Region</th>\n",
       "      <th>New Expansion</th>\n",
       "      <th>Marketing Spend</th>\n",
       "      <th>Revenue</th>\n",
       "      <th>Profit</th>\n",
       "      <th>ROMS</th>\n",
       "      <th>ROMS%</th>\n",
       "    </tr>\n",
       "  </thead>\n",
       "  <tbody>\n",
       "    <tr>\n",
       "      <th>0</th>\n",
       "      <td>1</td>\n",
       "      <td>Peoria</td>\n",
       "      <td>Arizona</td>\n",
       "      <td>Region 2</td>\n",
       "      <td>Old</td>\n",
       "      <td>2601</td>\n",
       "      <td>48610</td>\n",
       "      <td>46009</td>\n",
       "      <td>1768.90</td>\n",
       "      <td>17.6890</td>\n",
       "    </tr>\n",
       "    <tr>\n",
       "      <th>1</th>\n",
       "      <td>2</td>\n",
       "      <td>Midland</td>\n",
       "      <td>Texas</td>\n",
       "      <td>Region 2</td>\n",
       "      <td>Old</td>\n",
       "      <td>2727</td>\n",
       "      <td>45689</td>\n",
       "      <td>42962</td>\n",
       "      <td>1575.43</td>\n",
       "      <td>15.7543</td>\n",
       "    </tr>\n",
       "    <tr>\n",
       "      <th>2</th>\n",
       "      <td>3</td>\n",
       "      <td>Spokane</td>\n",
       "      <td>Washington</td>\n",
       "      <td>Region 2</td>\n",
       "      <td>Old</td>\n",
       "      <td>2768</td>\n",
       "      <td>49554</td>\n",
       "      <td>46786</td>\n",
       "      <td>1690.25</td>\n",
       "      <td>16.9025</td>\n",
       "    </tr>\n",
       "    <tr>\n",
       "      <th>3</th>\n",
       "      <td>4</td>\n",
       "      <td>Denton</td>\n",
       "      <td>Texas</td>\n",
       "      <td>Region 2</td>\n",
       "      <td>Old</td>\n",
       "      <td>2759</td>\n",
       "      <td>38284</td>\n",
       "      <td>35525</td>\n",
       "      <td>1287.60</td>\n",
       "      <td>12.8760</td>\n",
       "    </tr>\n",
       "    <tr>\n",
       "      <th>4</th>\n",
       "      <td>5</td>\n",
       "      <td>Overland Park</td>\n",
       "      <td>Kansas</td>\n",
       "      <td>Region 2</td>\n",
       "      <td>Old</td>\n",
       "      <td>2869</td>\n",
       "      <td>59887</td>\n",
       "      <td>57018</td>\n",
       "      <td>1987.38</td>\n",
       "      <td>19.8738</td>\n",
       "    </tr>\n",
       "    <tr>\n",
       "      <th>...</th>\n",
       "      <td>...</td>\n",
       "      <td>...</td>\n",
       "      <td>...</td>\n",
       "      <td>...</td>\n",
       "      <td>...</td>\n",
       "      <td>...</td>\n",
       "      <td>...</td>\n",
       "      <td>...</td>\n",
       "      <td>...</td>\n",
       "      <td>...</td>\n",
       "    </tr>\n",
       "    <tr>\n",
       "      <th>145</th>\n",
       "      <td>146</td>\n",
       "      <td>Paterson</td>\n",
       "      <td>New Jersey</td>\n",
       "      <td>Region 1</td>\n",
       "      <td>New</td>\n",
       "      <td>2251</td>\n",
       "      <td>34603</td>\n",
       "      <td>32352</td>\n",
       "      <td>1437.23</td>\n",
       "      <td>14.3723</td>\n",
       "    </tr>\n",
       "    <tr>\n",
       "      <th>146</th>\n",
       "      <td>147</td>\n",
       "      <td>Brownsville</td>\n",
       "      <td>Texas</td>\n",
       "      <td>Region 2</td>\n",
       "      <td>New</td>\n",
       "      <td>3675</td>\n",
       "      <td>63148</td>\n",
       "      <td>59473</td>\n",
       "      <td>1618.31</td>\n",
       "      <td>16.1831</td>\n",
       "    </tr>\n",
       "    <tr>\n",
       "      <th>147</th>\n",
       "      <td>148</td>\n",
       "      <td>Rockford</td>\n",
       "      <td>Illinois</td>\n",
       "      <td>Region 1</td>\n",
       "      <td>New</td>\n",
       "      <td>2648</td>\n",
       "      <td>43377</td>\n",
       "      <td>40729</td>\n",
       "      <td>1538.10</td>\n",
       "      <td>15.3810</td>\n",
       "    </tr>\n",
       "    <tr>\n",
       "      <th>148</th>\n",
       "      <td>149</td>\n",
       "      <td>College Station</td>\n",
       "      <td>Texas</td>\n",
       "      <td>Region 2</td>\n",
       "      <td>New</td>\n",
       "      <td>2994</td>\n",
       "      <td>22457</td>\n",
       "      <td>19463</td>\n",
       "      <td>650.07</td>\n",
       "      <td>6.5007</td>\n",
       "    </tr>\n",
       "    <tr>\n",
       "      <th>149</th>\n",
       "      <td>150</td>\n",
       "      <td>Thousand Oaks</td>\n",
       "      <td>California</td>\n",
       "      <td>Region 2</td>\n",
       "      <td>New</td>\n",
       "      <td>2431</td>\n",
       "      <td>40141</td>\n",
       "      <td>37710</td>\n",
       "      <td>1551.21</td>\n",
       "      <td>15.5121</td>\n",
       "    </tr>\n",
       "  </tbody>\n",
       "</table>\n",
       "<p>150 rows × 10 columns</p>\n",
       "</div>"
      ],
      "text/plain": [
       "     Store ID             City       State Sales Region New Expansion  \\\n",
       "0           1           Peoria     Arizona     Region 2           Old   \n",
       "1           2          Midland       Texas     Region 2           Old   \n",
       "2           3          Spokane  Washington     Region 2           Old   \n",
       "3           4           Denton       Texas     Region 2           Old   \n",
       "4           5    Overland Park      Kansas     Region 2           Old   \n",
       "..        ...              ...         ...          ...           ...   \n",
       "145       146         Paterson  New Jersey     Region 1           New   \n",
       "146       147      Brownsville       Texas     Region 2           New   \n",
       "147       148         Rockford    Illinois     Region 1           New   \n",
       "148       149  College Station       Texas     Region 2           New   \n",
       "149       150    Thousand Oaks  California     Region 2           New   \n",
       "\n",
       "     Marketing Spend  Revenue  Profit     ROMS    ROMS%  \n",
       "0               2601    48610   46009  1768.90  17.6890  \n",
       "1               2727    45689   42962  1575.43  15.7543  \n",
       "2               2768    49554   46786  1690.25  16.9025  \n",
       "3               2759    38284   35525  1287.60  12.8760  \n",
       "4               2869    59887   57018  1987.38  19.8738  \n",
       "..               ...      ...     ...      ...      ...  \n",
       "145             2251    34603   32352  1437.23  14.3723  \n",
       "146             3675    63148   59473  1618.31  16.1831  \n",
       "147             2648    43377   40729  1538.10  15.3810  \n",
       "148             2994    22457   19463   650.07   6.5007  \n",
       "149             2431    40141   37710  1551.21  15.5121  \n",
       "\n",
       "[150 rows x 10 columns]"
      ]
     },
     "execution_count": 202,
     "metadata": {},
     "output_type": "execute_result"
    }
   ],
   "source": [
    "startup"
   ]
  },
  {
   "cell_type": "code",
   "execution_count": 206,
   "id": "1d138a5f-df37-4537-a049-14a1aca31b40",
   "metadata": {},
   "outputs": [],
   "source": [
    "startup.to_csv(\"expansion_startup_new.csv\")"
   ]
  },
  {
   "cell_type": "code",
   "execution_count": null,
   "id": "49367adf-4236-4299-a171-412492c37ab4",
   "metadata": {},
   "outputs": [],
   "source": []
  }
 ],
 "metadata": {
  "kernelspec": {
   "display_name": "Python 3 (ipykernel)",
   "language": "python",
   "name": "python3"
  },
  "language_info": {
   "codemirror_mode": {
    "name": "ipython",
    "version": 3
   },
   "file_extension": ".py",
   "mimetype": "text/x-python",
   "name": "python",
   "nbconvert_exporter": "python",
   "pygments_lexer": "ipython3",
   "version": "3.12.4"
  }
 },
 "nbformat": 4,
 "nbformat_minor": 5
}
